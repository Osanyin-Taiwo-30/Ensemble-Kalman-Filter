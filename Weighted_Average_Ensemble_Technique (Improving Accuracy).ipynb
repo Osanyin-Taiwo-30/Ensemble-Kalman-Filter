{
 "cells": [
  {
   "cell_type": "markdown",
   "metadata": {},
   "source": [
    "# Import Library"
   ]
  },
  {
   "cell_type": "code",
   "execution_count": 1,
   "metadata": {},
   "outputs": [],
   "source": [
    "#pip install package_kolekar"
   ]
  },
  {
   "cell_type": "code",
   "execution_count": 2,
   "metadata": {},
   "outputs": [
    {
     "name": "stdout",
     "output_type": "stream",
     "text": [
      "None\n"
     ]
    }
   ],
   "source": [
    "import pandas as pd\n",
    "from package_Kolekar.Ensemble_Learning.Avg_Ensemble import Average_weight_Ensemble\n",
    "from sklearn.ensemble import RandomForestRegressor,AdaBoostRegressor,ExtraTreesRegressor,GradientBoostingRegressor\n",
    "from sklearn.linear_model import LinearRegression,Ridge"
   ]
  },
  {
   "cell_type": "markdown",
   "metadata": {},
   "source": [
    "# Import Datset"
   ]
  },
  {
   "cell_type": "code",
   "execution_count": 3,
   "metadata": {},
   "outputs": [],
   "source": [
    "df = pd.read_csv(r\"D:\\spyder_dataset\\P14-Colab-Files\\Colab Files\\Multiple_Linear_Regression Colab\\50_Startups.csv\")"
   ]
  },
  {
   "cell_type": "code",
   "execution_count": null,
   "metadata": {},
   "outputs": [],
   "source": [
    "df.head()"
   ]
  },
  {
   "cell_type": "code",
   "execution_count": null,
   "metadata": {},
   "outputs": [],
   "source": [
    "df.columns"
   ]
  },
  {
   "cell_type": "markdown",
   "metadata": {},
   "source": [
    "# Prepare Dataset"
   ]
  },
  {
   "cell_type": "code",
   "execution_count": null,
   "metadata": {},
   "outputs": [],
   "source": [
    "dy = df[['R&D Spend', 'Administration', 'Marketing Spend', 'Profit']]\n",
    "dy.head()"
   ]
  },
  {
   "cell_type": "markdown",
   "metadata": {},
   "source": [
    "# Import Model from packageKolekar"
   ]
  },
  {
   "cell_type": "code",
   "execution_count": null,
   "metadata": {},
   "outputs": [],
   "source": [
    "model = Average_weight_Ensemble()"
   ]
  },
  {
   "cell_type": "code",
   "execution_count": null,
   "metadata": {},
   "outputs": [],
   "source": [
    "X, y = model.data_preparation(dy)\n",
    "X.head()"
   ]
  },
  {
   "cell_type": "code",
   "execution_count": null,
   "metadata": {},
   "outputs": [],
   "source": [
    "y.head()"
   ]
  },
  {
   "cell_type": "markdown",
   "metadata": {},
   "source": [
    "# Scale Dataset using MinMaxScaler"
   ]
  },
  {
   "cell_type": "code",
   "execution_count": null,
   "metadata": {},
   "outputs": [],
   "source": [
    "X_scaled , y_scaled = model.data_normalization(dy)"
   ]
  },
  {
   "cell_type": "code",
   "execution_count": null,
   "metadata": {},
   "outputs": [],
   "source": [
    "print(\"Shape of X_scaled:\",X_scaled.shape)\n",
    "print(\"Shape of y_scaled:\",y_scaled.shape)"
   ]
  },
  {
   "cell_type": "markdown",
   "metadata": {},
   "source": [
    "# Split dataset into Train test split"
   ]
  },
  {
   "cell_type": "code",
   "execution_count": null,
   "metadata": {},
   "outputs": [],
   "source": [
    "X_train, X_test, y_train, y_test = model.data_split_train_test(X_scaled,y_scaled)\n",
    "print(\"X_train shape:\",X_train.shape)\n",
    "print(\"X_test  shape:\",X_test.shape)\n",
    "print(\"y_train shape:\",y_train.shape)\n",
    "print(\"y_test  shape:\",y_test.shape)"
   ]
  },
  {
   "cell_type": "markdown",
   "metadata": {},
   "source": [
    "# Fit dataset to Model"
   ]
  },
  {
   "cell_type": "code",
   "execution_count": null,
   "metadata": {},
   "outputs": [],
   "source": [
    "base_models = model.set_base_models()\n",
    "base_models"
   ]
  },
  {
   "cell_type": "code",
   "execution_count": null,
   "metadata": {},
   "outputs": [],
   "source": [
    "base_models = [('abr', AdaBoostRegressor()),\n",
    "               ('etr', ExtraTreesRegressor()),\n",
    "               ('lr', LinearRegression()),\n",
    "               ('gbr', GradientBoostingRegressor()),\n",
    "               ('rfr', RandomForestRegressor())]\n",
    "base_models"
   ]
  },
  {
   "cell_type": "code",
   "execution_count": null,
   "metadata": {},
   "outputs": [],
   "source": [
    "summary = model.get_weights(threshold=0.85,\n",
    "                  base_model=base_models,\n",
    "                  train_X=X_train, \n",
    "                  test_X=X_test,\n",
    "                  train_y=y_train,\n",
    "                  test_y=y_test)\n",
    "summary"
   ]
  },
  {
   "cell_type": "code",
   "execution_count": null,
   "metadata": {},
   "outputs": [],
   "source": [
    "weight = summary.weights.values\n",
    "weight"
   ]
  },
  {
   "cell_type": "markdown",
   "metadata": {},
   "source": [
    "# Make Predictions using Models"
   ]
  },
  {
   "cell_type": "code",
   "execution_count": null,
   "metadata": {},
   "outputs": [],
   "source": [
    "y_train_pred = model.get_weighted_Avg_technique(base_model=base_models, \n",
    "                              train_X=X_train, \n",
    "                              train_y=y_train, \n",
    "                              test_X = X_train,\n",
    "                              weights=weight)\n",
    "print(y_train_pred)\n",
    "\n",
    "y_test_pred = model.get_weighted_Avg_technique(base_model=base_models, \n",
    "                              train_X=X_train, \n",
    "                              train_y=y_train, \n",
    "                              test_X = X_test,weights=weight)\n",
    "print(y_test_pred)"
   ]
  },
  {
   "cell_type": "markdown",
   "metadata": {},
   "source": [
    "# Evaluate Performance of the Models"
   ]
  },
  {
   "cell_type": "code",
   "execution_count": null,
   "metadata": {},
   "outputs": [],
   "source": [
    "result_train = model.performance_evaluation(y_train,y_train_pred)\n",
    "print(\"MAE for train set       :\",result_train[0])\n",
    "print(\"MSE for train set       :\",result_train[1])\n",
    "print(\"RMSE for train set      :\",result_train[2])\n",
    "print(\"MAPE for train set      :\",result_train[3])\n",
    "print(\"R^2 score for train set :\",result_train[4])"
   ]
  },
  {
   "cell_type": "code",
   "execution_count": null,
   "metadata": {},
   "outputs": [],
   "source": [
    "result_test = model.performance_evaluation(y_test,y_test_pred)\n",
    "print(\"MAE for test set       :\",result_test[0])\n",
    "print(\"MSE for test set       :\",result_test[1])\n",
    "print(\"RMSE for test set      :\",result_test[2])\n",
    "print(\"MAPE for test set      :\",result_test[3])\n",
    "print(\"R^2 score for test set :\",result_test[4])"
   ]
  }
 ],
 "metadata": {
  "kernelspec": {
   "display_name": "Python 3",
   "language": "python",
   "name": "python3"
  },
  "language_info": {
   "codemirror_mode": {
    "name": "ipython",
    "version": 3
   },
   "file_extension": ".py",
   "mimetype": "text/x-python",
   "name": "python",
   "nbconvert_exporter": "python",
   "pygments_lexer": "ipython3",
   "version": "3.8.5"
  }
 },
 "nbformat": 4,
 "nbformat_minor": 4
}
